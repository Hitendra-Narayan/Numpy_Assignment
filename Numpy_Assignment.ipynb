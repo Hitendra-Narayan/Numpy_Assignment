{
 "cells": [
  {
   "cell_type": "code",
   "execution_count": 16,
   "id": "2acc025d-8a6f-4327-bfa2-d7773daa5768",
   "metadata": {},
   "outputs": [
    {
     "name": "stdout",
     "output_type": "stream",
     "text": [
      "Original Array:\n",
      "[[50 42 52]\n",
      " [54 45 69]\n",
      " [ 6 59  2]]\n",
      "\n",
      "Transposed Array:\n",
      "[[50 54  6]\n",
      " [42 45 59]\n",
      " [52 69  2]]\n"
     ]
    }
   ],
   "source": [
    "#Q. No. 01 Create a 3x3 NumPy array with random integers between 1 and 100. Then, interchange its rows and columns.\n",
    "\n",
    "import numpy as np\n",
    "\n",
    "#Create a 3x3 array with random integers between 1 and 100\n",
    "array = np.random.randint(1, 101, size=(3, 3))\n",
    "print (\"Original Array:\")\n",
    "print (array)\n",
    "\n",
    "#Interchange rows and columns (transpose the array)\n",
    "transposed_array = np.transpose(array)\n",
    "print (\"\\nTransposed Array:\")\n",
    "print (transposed_array)"
   ]
  },
  {
   "cell_type": "code",
   "execution_count": 17,
   "id": "9df884c6-0f70-4d23-984e-d79fd8effc67",
   "metadata": {},
   "outputs": [
    {
     "name": "stdout",
     "output_type": "stream",
     "text": [
      "2x5 array:\n",
      "[[0 1 2 3 4]\n",
      " [5 6 7 8 9]]\n",
      "5x2 array:\n",
      "[[0 1]\n",
      " [2 3]\n",
      " [4 5]\n",
      " [6 7]\n",
      " [8 9]]\n"
     ]
    }
   ],
   "source": [
    "#Q. No. 02 Generate a 1D NumPy array with 10 elements. Reshape it into a 2x5 array, then into a 5x2 array.\n",
    "\n",
    "import numpy as np\n",
    "\n",
    "array_1d = np.arange(10)\n",
    "\n",
    "#Reshape it into a 2x5 array\n",
    "array_2x5 = array_1d.reshape(2, 5)\n",
    "print (\"2x5 array:\")\n",
    "print (array_2x5)\n",
    "\n",
    "#Reshape it into a 5x2 array\n",
    "array_5x2 = array_1d.reshape(5, 2)\n",
    "print (\"5x2 array:\")\n",
    "print (array_5x2)"
   ]
  },
  {
   "cell_type": "code",
   "execution_count": 18,
   "id": "81261a53-8777-47d6-b1ec-32e2fac13091",
   "metadata": {},
   "outputs": [
    {
     "name": "stdout",
     "output_type": "stream",
     "text": [
      "4x4 Array:\n",
      "[[0.83474806 0.51199128 0.45674471 0.9013652 ]\n",
      " [0.38025872 0.10180423 0.93105889 0.70892066]\n",
      " [0.73633909 0.94192624 0.1714526  0.66457495]\n",
      " [0.53885039 0.67601374 0.22761958 0.80788458]]\n",
      "\n",
      "6x6 Array with border of zeros:\n",
      "[[0.         0.         0.         0.         0.         0.        ]\n",
      " [0.         0.83474806 0.51199128 0.45674471 0.9013652  0.        ]\n",
      " [0.         0.38025872 0.10180423 0.93105889 0.70892066 0.        ]\n",
      " [0.         0.73633909 0.94192624 0.1714526  0.66457495 0.        ]\n",
      " [0.         0.53885039 0.67601374 0.22761958 0.80788458 0.        ]\n",
      " [0.         0.         0.         0.         0.         0.        ]]\n"
     ]
    }
   ],
   "source": [
    "#Q. No. 03 Create a 4x4 NumPy array with random float values. Add a border of zeros around it, resulting in a 6x6 array.\n",
    "\n",
    "import numpy as np\n",
    "\n",
    "array_4x4 = np.random.rand(4, 4)\n",
    "\n",
    "#Add a border of zeros around the 4x4 array to make it a 6x6 array\n",
    "array_6x6 = np.pad(array_4x4, pad_width=1, mode='constant', constant_values=0)\n",
    "\n",
    "print (\"4x4 Array:\")\n",
    "print (array_4x4)\n",
    "print (\"\\n6x6 Array with border of zeros:\")\n",
    "print (array_6x6)"
   ]
  },
  {
   "cell_type": "code",
   "execution_count": 19,
   "id": "631bcc3f-4db9-4ea4-8df0-ef752ae14b56",
   "metadata": {},
   "outputs": [
    {
     "name": "stdout",
     "output_type": "stream",
     "text": [
      "[10 15 20 25 30 35 40 45 50 55 60]\n"
     ]
    }
   ],
   "source": [
    "#Q. No. 04 Using NumPy, create an array of integers from 10 to 60 with a step of 5.\n",
    "\n",
    "\n",
    "import numpy as np\n",
    "\n",
    "array = np.arange(10, 61, 5)\n",
    "print (array)"
   ]
  },
  {
   "cell_type": "code",
   "execution_count": 2,
   "id": "02ff3323-74c6-41b9-94ab-74601ae6a930",
   "metadata": {},
   "outputs": [
    {
     "name": "stdout",
     "output_type": "stream",
     "text": [
      "Original array: ['python' 'numpy' 'pandas']\n",
      "Uppercase: ['PYTHON' 'NUMPY' 'PANDAS']\n",
      "Lowercase: ['python' 'numpy' 'pandas']\n",
      "Title case: ['Python' 'Numpy' 'Pandas']\n",
      "Capitalize: ['Python' 'Numpy' 'Pandas']\n"
     ]
    }
   ],
   "source": [
    "#Q. No. 05 Create a NumPy array of strings ['python', 'numpy', 'pandas']. Apply different case transformations (uppercase, lowercase, title case, etc.) to each element.\n",
    "\n",
    "#Wecan create a NumPy array of strings and apply different case transformations to each element using NumPy functions along with Python's string methods.\n",
    "#Example:\n",
    "\n",
    "import numpy as np\n",
    "\n",
    "arr = np.array(['python', 'numpy', 'pandas'])\n",
    "\n",
    "#Apply different case transformations\n",
    "uppercase_arr = np.char.upper(arr)\n",
    "lowercase_arr = np.char.lower(arr)\n",
    "titlecase_arr = np.char.title(arr)\n",
    "capitalize_arr = np.char.capitalize(arr)\n",
    "\n",
    "#Print the results\n",
    "print (\"Original array:\", arr)\n",
    "print (\"Uppercase:\", uppercase_arr)\n",
    "print (\"Lowercase:\", lowercase_arr)\n",
    "print (\"Title case:\", titlecase_arr)\n",
    "print (\"Capitalize:\", capitalize_arr)"
   ]
  },
  {
   "cell_type": "code",
   "execution_count": 3,
   "id": "74fb1269-1181-4097-b8ef-3fdc582c9c1d",
   "metadata": {},
   "outputs": [
    {
     "name": "stdout",
     "output_type": "stream",
     "text": [
      "['h e l l o' 'w o r l d' 'n u m p y']\n"
     ]
    }
   ],
   "source": [
    "#Q. No. 06 Generate a NumPy array of words. Insert a space between each character of every word in the array.\n",
    "\n",
    "import numpy as np\n",
    "\n",
    "words = np.array(['hello', 'world', 'numpy'])\n",
    "\n",
    "#Function to insert spaces between characters of each word\n",
    "def insert_spaces(word):\n",
    "    return ' '.join(word)\n",
    "\n",
    "#Apply the function to each word in the array\n",
    "spaced_words = np.array([insert_spaces(word) for word in words])\n",
    "\n",
    "print(spaced_words)"
   ]
  },
  {
   "cell_type": "code",
   "execution_count": 4,
   "id": "91c08e1c-b124-49ec-9a2e-c4c48e1a6fd2",
   "metadata": {},
   "outputs": [
    {
     "name": "stdout",
     "output_type": "stream",
     "text": [
      "Array 1:\n",
      " [[1 2 3]\n",
      " [4 5 6]]\n",
      "Array 2:\n",
      " [[ 7  8  9]\n",
      " [10 11 12]]\n",
      "Element-wise Addition:\n",
      " [[ 8 10 12]\n",
      " [14 16 18]]\n",
      "Element-wise Subtraction:\n",
      " [[-6 -6 -6]\n",
      " [-6 -6 -6]]\n",
      "Element-wise Multiplication:\n",
      " [[ 7 16 27]\n",
      " [40 55 72]]\n",
      "Element-wise Division:\n",
      " [[0.14285714 0.25       0.33333333]\n",
      " [0.4        0.45454545 0.5       ]]\n"
     ]
    }
   ],
   "source": [
    "#Q. No. 07 Create two 2D NumPy arrays and perform element-wise addition, subtraction, multiplication, and division.\n",
    "\n",
    "import numpy as np\n",
    "\n",
    "array1 = np.array([[1, 2, 3], [4, 5, 6]])\n",
    "array2 = np.array([[7, 8, 9], [10, 11, 12]])\n",
    "\n",
    "#Element-wise addition\n",
    "addition = array1 + array2\n",
    "\n",
    "#Element-wise subtraction\n",
    "subtraction = array1 - array2\n",
    "\n",
    "#Element-wise multiplication\n",
    "multiplication = array1 * array2\n",
    "\n",
    "#Element-wise division\n",
    "division = array1 / array2\n",
    "\n",
    "print (\"Array 1:\\n\", array1)\n",
    "print (\"Array 2:\\n\", array2)\n",
    "print (\"Element-wise Addition:\\n\", addition)\n",
    "print (\"Element-wise Subtraction:\\n\", subtraction)\n",
    "print (\"Element-wise Multiplication:\\n\", multiplication)\n",
    "print (\"Element-wise Division:\\n\", division)"
   ]
  },
  {
   "cell_type": "code",
   "execution_count": 5,
   "id": "528c4467-1155-4a8a-bde0-af79f9e978b7",
   "metadata": {},
   "outputs": [
    {
     "name": "stdout",
     "output_type": "stream",
     "text": [
      "Identity Matrix:\n",
      "[[1. 0. 0. 0. 0.]\n",
      " [0. 1. 0. 0. 0.]\n",
      " [0. 0. 1. 0. 0.]\n",
      " [0. 0. 0. 1. 0.]\n",
      " [0. 0. 0. 0. 1.]]\n",
      "\n",
      "Diagonal Elements:\n",
      "[1. 1. 1. 1. 1.]\n"
     ]
    }
   ],
   "source": [
    "#Q. No. 08 Use NumPy to create a 5x5 identity matrix, then extract its diagonal elements.\n",
    "\n",
    "import numpy as np\n",
    "\n",
    "identity_matrix = np.eye(5)\n",
    "\n",
    "#Extract diagonal elements\n",
    "diagonal_elements = np.diag(identity_matrix)\n",
    "\n",
    "print (\"Identity Matrix:\")\n",
    "print (identity_matrix)\n",
    "print (\"\\nDiagonal Elements:\")\n",
    "print (diagonal_elements)"
   ]
  },
  {
   "cell_type": "code",
   "execution_count": 6,
   "id": "7ef69827-5564-4b57-9bea-1449127a1ff7",
   "metadata": {},
   "outputs": [
    {
     "name": "stdout",
     "output_type": "stream",
     "text": [
      "Random array: [151 293  28 476 465 379 103 601 580 342 642 433 507 228 872 652 914 594\n",
      " 707  71 587 764 342 421 648 898 423  70  67 212 188 656 103 390 724 360\n",
      " 216 498 635 850 615 221   8 698 811 981 326 182 661 344 125 159 779 817\n",
      " 185  93 583 152 535 367 287 477 783 171 344 222  67  58 376 982 930 134\n",
      "  35 602 772  88 564 785 555 392 215 244  62 800 940 389 437 542 117 517\n",
      " 450 840 697 651 817  38 560 662 655 138]\n",
      "Prime numbers: [151 293 379 103 601 433  71 587 421  67 103 811 661 367  67 389]\n"
     ]
    }
   ],
   "source": [
    "#Q. No. 09 Generate a NumPy array of 100 random integers between 0 and 1000. Find and display all prime numbers in this array.\n",
    "\n",
    "import numpy as np\n",
    "\n",
    "random_array = np.random.randint(0, 1001, size=100)\n",
    "\n",
    "#Function to check if a number is prime\n",
    "def is_prime(n):\n",
    "    if n <= 1:\n",
    "        return False\n",
    "    if n <= 3:\n",
    "        return True\n",
    "    if n % 2 == 0 or n % 3 == 0:\n",
    "        return False\n",
    "    i = 5\n",
    "    while i * i <= n:\n",
    "        if n % i == 0 or n % (i + 2) == 0:\n",
    "            return False\n",
    "        i += 6\n",
    "    return True\n",
    "\n",
    "#Filter prime numbers from the array\n",
    "prime_numbers = np.array([num for num in random_array if is_prime(num)])\n",
    "\n",
    "print (\"Random array:\", random_array)\n",
    "print (\"Prime numbers:\", prime_numbers)"
   ]
  },
  {
   "cell_type": "code",
   "execution_count": 7,
   "id": "818cafaa-5079-48e1-b3e4-d78b26a3d8ca",
   "metadata": {},
   "outputs": [
    {
     "name": "stdout",
     "output_type": "stream",
     "text": [
      "Daily temperatures for the month:\n",
      "[20.97627008 24.30378733 22.05526752 20.89766366 18.47309599 22.91788226\n",
      " 18.75174423 27.83546002 29.27325521 17.66883038 25.83450076 20.5778984\n",
      " 21.36089122 28.51193277 11.42072116 11.74258599 10.40436795 26.65239691\n",
      " 25.56313502 27.40024296 29.57236684 25.98317128 19.22958725 25.61058353\n",
      " 12.36548852 22.79842043 12.86706575 28.89337834 20.43696644 18.2932388 ]\n",
      "\n",
      "Weekly averages:\n",
      "[21.60399447 23.32361483 18.348816   25.55984781 19.27575971]\n"
     ]
    }
   ],
   "source": [
    "#Q. No. 10  Create a NumPy array representing daily temperatures for a month. Calculate and display the weekly averages.\n",
    "\n",
    "import numpy as np\n",
    "\n",
    "np.random.seed(0)\n",
    "daily_temperatures = np.random.uniform(low=10, high=30, size=30)  #Temperatures between 10 and 30 degrees\n",
    "\n",
    "#Display daily temperatures\n",
    "print (\"Daily temperatures for the month:\")\n",
    "print (daily_temperatures)\n",
    "\n",
    "#Reshape the array into a 2D array with 5 weeks and 7 days per week\n",
    "weekly_temperatures = daily_temperatures.reshape(5, 6)\n",
    "\n",
    "#Calculate weekly averages\n",
    "weekly_averages = np.mean(weekly_temperatures, axis=1)\n",
    "\n",
    "#Display weekly averages\n",
    "print (\"\\nWeekly averages:\")\n",
    "print (weekly_averages)"
   ]
  }
 ],
 "metadata": {
  "kernelspec": {
   "display_name": "Python 3 (ipykernel)",
   "language": "python",
   "name": "python3"
  },
  "language_info": {
   "codemirror_mode": {
    "name": "ipython",
    "version": 3
   },
   "file_extension": ".py",
   "mimetype": "text/x-python",
   "name": "python",
   "nbconvert_exporter": "python",
   "pygments_lexer": "ipython3",
   "version": "3.10.8"
  }
 },
 "nbformat": 4,
 "nbformat_minor": 5
}
